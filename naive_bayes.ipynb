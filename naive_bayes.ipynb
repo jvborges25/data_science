{
 "cells": [
  {
   "cell_type": "code",
   "execution_count": null,
   "metadata": {},
   "outputs": [],
   "source": [
    "# importação da bibliotecas\n",
    "import pandas as pd\n",
    "from sklearn.model_selection import train_test_split\n",
    "from sklearn.naive_bayes import GaussianNB\n",
    "from sklearn.preprocessing import LabelEncoder\n",
    "from sklearn.metrics import confusion_matrix, accuracy_score\n",
    "from yellowbrick.classifier import ConfusionMatrix"
   ]
  },
  {
   "cell_type": "code",
   "execution_count": null,
   "metadata": {},
   "outputs": [],
   "source": [
    "# carregando basse de dados e definindo os previsores\n",
    "credito = pd.read_csv('Credit.csv')\n",
    "credito.shape"
   ]
  },
  {
   "cell_type": "code",
   "execution_count": null,
   "metadata": {},
   "outputs": [],
   "source": [
    "credito.head()"
   ]
  },
  {
   "cell_type": "code",
   "execution_count": null,
   "metadata": {},
   "outputs": [],
   "source": [
    "# formato de matriz\n",
    "previsores = credito.iloc[:,0:20].values\n",
    "classe = credito.iloc[:,20].values"
   ]
  },
  {
   "cell_type": "code",
   "execution_count": null,
   "metadata": {},
   "outputs": [],
   "source": [
    "# transformando os atributos categoricos em atribubos numericos \n",
    "labelencoder1 = LabelEncoder()\n",
    "previsores[:,0] = labelencoder1.fit_transform(previsores[:,0])\n",
    "\n",
    "labelencoder2 = LabelEncoder()\n",
    "previsores[:,2] = labelencoder2.fit_transform(previsores[:,2])\n",
    "\n",
    "labelencoder3 = LabelEncoder()\n",
    "previsores[:,3] = labelencoder3.fit_transform(previsores[:,3])\n",
    "\n",
    "labelencoder4 = LabelEncoder()\n",
    "previsores[:,5] = labelencoder4.fit_transform(previsores[:,5])\n",
    "\n",
    "labelencoder5 = LabelEncoder()\n",
    "previsores[:,6] = labelencoder5.fit_transform(previsores[:,6])\n",
    "\n",
    "labelencoder6 = LabelEncoder()\n",
    "previsores[:,8] = labelencoder6.fit_transform(previsores[:,8])\n",
    "\n",
    "labelencoder7 = LabelEncoder()\n",
    "previsores[:,9] = labelencoder7.fit_transform(previsores[:,9])\n",
    "\n",
    "labelencoder8 = LabelEncoder()\n",
    "previsores[:,11] = labelencoder8.fit_transform(previsores[:,11])\n",
    "\n",
    "labelencoder9 = LabelEncoder()\n",
    "previsores[:,13] = labelencoder9.fit_transform(previsores[:,13])\n",
    "\n",
    "labelencoder10 = LabelEncoder()\n",
    "previsores[:,14] = labelencoder10.fit_transform(previsores[:,14])\n",
    "\n",
    "labelencoder11 = LabelEncoder()\n",
    "previsores[:,16] = labelencoder11.fit_transform(previsores[:,16])\n",
    "\n",
    "labelencoder12 = LabelEncoder()\n",
    "previsores[:,18] = labelencoder12.fit_transform(previsores[:,18])\n",
    "\n",
    "labelencoder13 = LabelEncoder()\n",
    "previsores[:,19] = labelencoder13.fit_transform(previsores[:,19])"
   ]
  },
  {
   "cell_type": "code",
   "execution_count": null,
   "metadata": {},
   "outputs": [],
   "source": [
    "# divisao da base dados (30% para teste e 70% para treino)\n",
    "x_treinamento, x_teste, y_treinamento, y_teste = train_test_split(previsores,classe, test_size = 0.3, random_state = 0)\n",
    "x_teste"
   ]
  },
  {
   "cell_type": "code",
   "execution_count": null,
   "metadata": {},
   "outputs": [],
   "source": [
    "# criacao e treinamento do modelo\n",
    "naive_bayes = GaussianNB()\n",
    "naive_bayes.fit(x_treinamento, y_treinamento)"
   ]
  },
  {
   "cell_type": "code",
   "execution_count": null,
   "metadata": {},
   "outputs": [],
   "source": [
    "# previssao utilizando os registros do teste\n",
    "previsoes = naive_bayes.predict(x_teste)"
   ]
  },
  {
   "cell_type": "code",
   "execution_count": null,
   "metadata": {},
   "outputs": [],
   "source": [
    "# geracao da matriz de confusao e calculo do acerto e erro\n",
    "confusao = confusion_matrix(y_teste, previsoes)\n",
    "confusao"
   ]
  },
  {
   "cell_type": "code",
   "execution_count": null,
   "metadata": {},
   "outputs": [],
   "source": [
    "taxa_acerto = accuracy_score(y_teste, previsoes)\n",
    "taxa_erro = 1 - taxa_acerto\n",
    "taxa_acerto"
   ]
  },
  {
   "cell_type": "code",
   "execution_count": null,
   "metadata": {},
   "outputs": [],
   "source": [
    "# visualizacao da matrix de confusao \n",
    "v = ConfusionMatrix(GaussianNB())\n",
    "v.fit(x_treinamento, y_treinamento)\n",
    "v.score(x_teste, y_teste)\n",
    "v.poof()"
   ]
  },
  {
   "cell_type": "code",
   "execution_count": null,
   "metadata": {},
   "outputs": [],
   "source": [
    "# previsao com novos registros\n",
    "novo_credito = pd.read_csv('NovoCredit.csv')\n",
    "novo_credito.shape"
   ]
  },
  {
   "cell_type": "code",
   "execution_count": null,
   "metadata": {},
   "outputs": [],
   "source": [
    "# transformando novos registros\n",
    "novo_credito = novo_credito.iloc[:,0:20].values\n",
    "novo_credito[:,0] = labelencoder1.transform(novo_credito[:,0])\n",
    "novo_credito[:, 2] = labelencoder2.transform(novo_credito[:, 2])\n",
    "novo_credito[:, 3] = labelencoder3.transform(novo_credito[:, 3])\n",
    "novo_credito[:, 5] = labelencoder4.transform(novo_credito[:, 5])\n",
    "novo_credito[:, 6] = labelencoder5.transform(novo_credito[:, 6])\n",
    "novo_credito[:, 8] = labelencoder6.transform(novo_credito[:, 8])\n",
    "novo_credito[:, 9] = labelencoder7.transform(novo_credito[:, 9])\n",
    "novo_credito[:, 11] = labelencoder8.transform(novo_credito[:, 11])\n",
    "novo_credito[:, 13] = labelencoder9.transform(novo_credito[:, 13])\n",
    "novo_credito[:, 14] = labelencoder10.transform(novo_credito[:, 14])\n",
    "novo_credito[:, 16] = labelencoder11.transform(novo_credito[:, 16])\n",
    "novo_credito[:, 18] = labelencoder12.transform(novo_credito[:, 18])\n",
    "novo_credito[:, 19] = labelencoder13.transform(novo_credito[:, 19])"
   ]
  },
  {
   "cell_type": "code",
   "execution_count": null,
   "metadata": {},
   "outputs": [],
   "source": [
    "# resultado da previsao\n",
    "naive_bayes.predict(novo_credito)"
   ]
  }
 ],
 "metadata": {
  "kernelspec": {
   "display_name": "Python 3.10.6 64-bit",
   "language": "python",
   "name": "python3"
  },
  "language_info": {
   "codemirror_mode": {
    "name": "ipython",
    "version": 3
   },
   "file_extension": ".py",
   "mimetype": "text/x-python",
   "name": "python",
   "nbconvert_exporter": "python",
   "pygments_lexer": "ipython3",
   "version": "3.10.6"
  },
  "orig_nbformat": 4,
  "vscode": {
   "interpreter": {
    "hash": "916dbcbb3f70747c44a77c7bcd40155683ae19c65e1c03b4aa3499c5328201f1"
   }
  }
 },
 "nbformat": 4,
 "nbformat_minor": 2
}
